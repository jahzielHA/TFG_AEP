{
 "cells": [
  {
   "cell_type": "code",
   "execution_count": 17,
   "id": "ed7f2a86-5138-4099-a7a5-12bb713cf351",
   "metadata": {},
   "outputs": [],
   "source": [
    "import pandas as pd\n",
    "import numpy as np\n",
    "import seaborn as sns\n",
    "import matplotlib.pyplot as plt\n",
    "import unicodedata\n",
    "import os\n",
    "from unidecode import unidecode"
   ]
  },
  {
   "cell_type": "code",
   "execution_count": 19,
   "id": "fbb6cd2b-134c-4c54-b52b-e3ce5bd85762",
   "metadata": {},
   "outputs": [],
   "source": [
    "df_renta_familiar_2021 = pd.read_csv('clean_data/2021/df_renta_familiar.csv', delimiter=',') \n",
    "df_renta_familiar_2020 = pd.read_csv('clean_data/2020/df_renta_familiar.csv', delimiter=',') \n",
    "df_renta_familiar_2019 = pd.read_csv('clean_data/2019/df_renta_familiar.csv', delimiter=',') \n",
    "df_renta_familiar_2018 = pd.read_csv('clean_data/2018/df_renta_familiar.csv', delimiter=',')"
   ]
  },
  {
   "cell_type": "code",
   "execution_count": 21,
   "id": "d31ff874-7b29-49b2-b099-627c35497a5e",
   "metadata": {
    "scrolled": true
   },
   "outputs": [
    {
     "name": "stdout",
     "output_type": "stream",
     "text": [
      "Info Dataset df_renta_familiar_2021:\n",
      "<class 'pandas.core.frame.DataFrame'>\n",
      "RangeIndex: 42 entries, 0 to 41\n",
      "Data columns (total 5 columns):\n",
      " #   Column                                                  Non-Null Count  Dtype  \n",
      "---  ------                                                  --------------  -----  \n",
      " 0   codi                                                    42 non-null     int64  \n",
      " 1   comarca                                                 42 non-null     object \n",
      " 2   rfdb_(miles_de_euros)                                   42 non-null     int64  \n",
      " 3   rfdb_por_habitante_(euros)                              42 non-null     int64  \n",
      " 4   rfdb_por_habitante_(index_catalunya=100_por_habitante)  42 non-null     float64\n",
      "dtypes: float64(1), int64(3), object(1)\n",
      "memory usage: 1.8+ KB\n"
     ]
    },
    {
     "data": {
      "text/plain": [
       "None"
      ]
     },
     "metadata": {},
     "output_type": "display_data"
    },
    {
     "name": "stdout",
     "output_type": "stream",
     "text": [
      "\n",
      "\n",
      "Info Dataset df_renta_familiar_2020:\n",
      "<class 'pandas.core.frame.DataFrame'>\n",
      "RangeIndex: 42 entries, 0 to 41\n",
      "Data columns (total 5 columns):\n",
      " #   Column                                                  Non-Null Count  Dtype  \n",
      "---  ------                                                  --------------  -----  \n",
      " 0   codi                                                    42 non-null     int64  \n",
      " 1   comarca                                                 42 non-null     object \n",
      " 2   rfdb_(miles_de_euros)                                   42 non-null     int64  \n",
      " 3   rfdb_por_habitante_(euros)                              42 non-null     int64  \n",
      " 4   rfdb_por_habitante_(index_catalunya=100_por_habitante)  42 non-null     float64\n",
      "dtypes: float64(1), int64(3), object(1)\n",
      "memory usage: 1.8+ KB\n"
     ]
    },
    {
     "data": {
      "text/plain": [
       "None"
      ]
     },
     "metadata": {},
     "output_type": "display_data"
    },
    {
     "name": "stdout",
     "output_type": "stream",
     "text": [
      "\n",
      "\n",
      "Info Dataset df_renta_familiar_2019:\n",
      "<class 'pandas.core.frame.DataFrame'>\n",
      "RangeIndex: 42 entries, 0 to 41\n",
      "Data columns (total 5 columns):\n",
      " #   Column                                                  Non-Null Count  Dtype  \n",
      "---  ------                                                  --------------  -----  \n",
      " 0   codi                                                    42 non-null     int64  \n",
      " 1   comarca                                                 42 non-null     object \n",
      " 2   rfdb_(miles_de_euros)                                   42 non-null     int64  \n",
      " 3   rfdb_por_habitante_(euros)                              42 non-null     int64  \n",
      " 4   rfdb_por_habitante_(index_catalunya=100_por_habitante)  42 non-null     float64\n",
      "dtypes: float64(1), int64(3), object(1)\n",
      "memory usage: 1.8+ KB\n"
     ]
    },
    {
     "data": {
      "text/plain": [
       "None"
      ]
     },
     "metadata": {},
     "output_type": "display_data"
    },
    {
     "name": "stdout",
     "output_type": "stream",
     "text": [
      "\n",
      "\n",
      "Info Dataset df_renta_familiar_2018:\n",
      "<class 'pandas.core.frame.DataFrame'>\n",
      "RangeIndex: 42 entries, 0 to 41\n",
      "Data columns (total 5 columns):\n",
      " #   Column                                                  Non-Null Count  Dtype  \n",
      "---  ------                                                  --------------  -----  \n",
      " 0   codi                                                    42 non-null     int64  \n",
      " 1   comarca                                                 42 non-null     object \n",
      " 2   rfdb_(miles_de_euros)                                   42 non-null     int64  \n",
      " 3   rfdb_por_habitante_(euros)                              42 non-null     int64  \n",
      " 4   rfdb_por_habitante_(index_catalunya=100_por_habitante)  42 non-null     float64\n",
      "dtypes: float64(1), int64(3), object(1)\n",
      "memory usage: 1.8+ KB\n"
     ]
    },
    {
     "data": {
      "text/plain": [
       "None"
      ]
     },
     "metadata": {},
     "output_type": "display_data"
    },
    {
     "name": "stdout",
     "output_type": "stream",
     "text": [
      "\n",
      "\n"
     ]
    }
   ],
   "source": [
    "datasets = {\n",
    "    'df_renta_familiar_2021': df_renta_familiar_2021,\n",
    "    'df_renta_familiar_2020': df_renta_familiar_2020,\n",
    "    'df_renta_familiar_2019': df_renta_familiar_2019,\n",
    "    'df_renta_familiar_2018': df_renta_familiar_2018,\n",
    "}\n",
    "\n",
    "# Iterar sobre el diccionari per mostrar les primeres files de cada dataset\n",
    "for name, df in datasets.items():\n",
    "    print(f\"Info Dataset {name}:\")\n",
    "    display(df.info()) \n",
    "    print(\"\\n\") "
   ]
  },
  {
   "cell_type": "code",
   "execution_count": 23,
   "id": "b8621f07-567b-4f86-8ed6-12c51f8fd8c6",
   "metadata": {},
   "outputs": [
    {
     "data": {
      "text/html": [
       "<div>\n",
       "<style scoped>\n",
       "    .dataframe tbody tr th:only-of-type {\n",
       "        vertical-align: middle;\n",
       "    }\n",
       "\n",
       "    .dataframe tbody tr th {\n",
       "        vertical-align: top;\n",
       "    }\n",
       "\n",
       "    .dataframe thead th {\n",
       "        text-align: right;\n",
       "    }\n",
       "</style>\n",
       "<table border=\"1\" class=\"dataframe\">\n",
       "  <thead>\n",
       "    <tr style=\"text-align: right;\">\n",
       "      <th></th>\n",
       "      <th>codi</th>\n",
       "      <th>comarca</th>\n",
       "      <th>rfdb_(miles_de_euros)</th>\n",
       "      <th>rfdb_por_habitante_(euros)</th>\n",
       "      <th>rfdb_por_habitante_(index_catalunya=100_por_habitante)</th>\n",
       "      <th>any</th>\n",
       "    </tr>\n",
       "  </thead>\n",
       "  <tbody>\n",
       "    <tr>\n",
       "      <th>0</th>\n",
       "      <td>1</td>\n",
       "      <td>alt camp</td>\n",
       "      <td>747053</td>\n",
       "      <td>16512</td>\n",
       "      <td>90.0</td>\n",
       "      <td>2021</td>\n",
       "    </tr>\n",
       "    <tr>\n",
       "      <th>1</th>\n",
       "      <td>2</td>\n",
       "      <td>alt emporda</td>\n",
       "      <td>2059702</td>\n",
       "      <td>14339</td>\n",
       "      <td>78.1</td>\n",
       "      <td>2021</td>\n",
       "    </tr>\n",
       "    <tr>\n",
       "      <th>2</th>\n",
       "      <td>3</td>\n",
       "      <td>alt penedes</td>\n",
       "      <td>1958312</td>\n",
       "      <td>17716</td>\n",
       "      <td>96.5</td>\n",
       "      <td>2021</td>\n",
       "    </tr>\n",
       "    <tr>\n",
       "      <th>3</th>\n",
       "      <td>4</td>\n",
       "      <td>alt urgell</td>\n",
       "      <td>293835</td>\n",
       "      <td>14416</td>\n",
       "      <td>78.5</td>\n",
       "      <td>2021</td>\n",
       "    </tr>\n",
       "    <tr>\n",
       "      <th>4</th>\n",
       "      <td>5</td>\n",
       "      <td>alta ribagorca</td>\n",
       "      <td>60948</td>\n",
       "      <td>15345</td>\n",
       "      <td>83.6</td>\n",
       "      <td>2021</td>\n",
       "    </tr>\n",
       "    <tr>\n",
       "      <th>...</th>\n",
       "      <td>...</td>\n",
       "      <td>...</td>\n",
       "      <td>...</td>\n",
       "      <td>...</td>\n",
       "      <td>...</td>\n",
       "      <td>...</td>\n",
       "    </tr>\n",
       "    <tr>\n",
       "      <th>163</th>\n",
       "      <td>38</td>\n",
       "      <td>urgell</td>\n",
       "      <td>515846</td>\n",
       "      <td>14233</td>\n",
       "      <td>81.4</td>\n",
       "      <td>2018</td>\n",
       "    </tr>\n",
       "    <tr>\n",
       "      <th>164</th>\n",
       "      <td>39</td>\n",
       "      <td>aran</td>\n",
       "      <td>156314</td>\n",
       "      <td>15759</td>\n",
       "      <td>90.1</td>\n",
       "      <td>2018</td>\n",
       "    </tr>\n",
       "    <tr>\n",
       "      <th>165</th>\n",
       "      <td>40</td>\n",
       "      <td>valles occidental</td>\n",
       "      <td>16292531</td>\n",
       "      <td>17714</td>\n",
       "      <td>101.3</td>\n",
       "      <td>2018</td>\n",
       "    </tr>\n",
       "    <tr>\n",
       "      <th>166</th>\n",
       "      <td>41</td>\n",
       "      <td>valles oriental</td>\n",
       "      <td>7002267</td>\n",
       "      <td>17207</td>\n",
       "      <td>98.4</td>\n",
       "      <td>2018</td>\n",
       "    </tr>\n",
       "    <tr>\n",
       "      <th>167</th>\n",
       "      <td>42</td>\n",
       "      <td>moianes</td>\n",
       "      <td>224543</td>\n",
       "      <td>16749</td>\n",
       "      <td>95.8</td>\n",
       "      <td>2018</td>\n",
       "    </tr>\n",
       "  </tbody>\n",
       "</table>\n",
       "<p>168 rows × 6 columns</p>\n",
       "</div>"
      ],
      "text/plain": [
       "     codi            comarca  rfdb_(miles_de_euros)  \\\n",
       "0       1           alt camp                 747053   \n",
       "1       2        alt emporda                2059702   \n",
       "2       3        alt penedes                1958312   \n",
       "3       4         alt urgell                 293835   \n",
       "4       5     alta ribagorca                  60948   \n",
       "..    ...                ...                    ...   \n",
       "163    38             urgell                 515846   \n",
       "164    39               aran                 156314   \n",
       "165    40  valles occidental               16292531   \n",
       "166    41    valles oriental                7002267   \n",
       "167    42            moianes                 224543   \n",
       "\n",
       "     rfdb_por_habitante_(euros)  \\\n",
       "0                         16512   \n",
       "1                         14339   \n",
       "2                         17716   \n",
       "3                         14416   \n",
       "4                         15345   \n",
       "..                          ...   \n",
       "163                       14233   \n",
       "164                       15759   \n",
       "165                       17714   \n",
       "166                       17207   \n",
       "167                       16749   \n",
       "\n",
       "     rfdb_por_habitante_(index_catalunya=100_por_habitante)   any  \n",
       "0                                                 90.0       2021  \n",
       "1                                                 78.1       2021  \n",
       "2                                                 96.5       2021  \n",
       "3                                                 78.5       2021  \n",
       "4                                                 83.6       2021  \n",
       "..                                                 ...        ...  \n",
       "163                                               81.4       2018  \n",
       "164                                               90.1       2018  \n",
       "165                                              101.3       2018  \n",
       "166                                               98.4       2018  \n",
       "167                                               95.8       2018  \n",
       "\n",
       "[168 rows x 6 columns]"
      ]
     },
     "execution_count": 23,
     "metadata": {},
     "output_type": "execute_result"
    }
   ],
   "source": [
    "# Crear una llista de DataFrames amb els seus anys corresponents\n",
    "datasets = [\n",
    "    (df_renta_familiar_2021, 2021),\n",
    "    (df_renta_familiar_2020, 2020),\n",
    "    (df_renta_familiar_2019, 2019),\n",
    "    (df_renta_familiar_2018, 2018)\n",
    "]\n",
    "\n",
    "# Afegir la columna 'any' i concatenar tots els DataFrames\n",
    "df_renta_familiar = pd.concat([df.assign(any=year) for df, year in datasets], ignore_index=True)\n",
    "\n",
    "# Mostrar la informació final\n",
    "df_renta_familiar"
   ]
  },
  {
   "cell_type": "code",
   "execution_count": 25,
   "id": "d732646b-1db6-4135-9c05-216295a7d310",
   "metadata": {},
   "outputs": [
    {
     "name": "stdout",
     "output_type": "stream",
     "text": [
      "<class 'pandas.core.frame.DataFrame'>\n",
      "RangeIndex: 168 entries, 0 to 167\n",
      "Data columns (total 6 columns):\n",
      " #   Column                                                  Non-Null Count  Dtype  \n",
      "---  ------                                                  --------------  -----  \n",
      " 0   codi                                                    168 non-null    int64  \n",
      " 1   comarca                                                 168 non-null    object \n",
      " 2   rfdb_(miles_de_euros)                                   168 non-null    int64  \n",
      " 3   rfdb_por_habitante_(euros)                              168 non-null    int64  \n",
      " 4   rfdb_por_habitante_(index_catalunya=100_por_habitante)  168 non-null    float64\n",
      " 5   any                                                     168 non-null    int64  \n",
      "dtypes: float64(1), int64(4), object(1)\n",
      "memory usage: 8.0+ KB\n"
     ]
    }
   ],
   "source": [
    "df_renta_familiar.info()"
   ]
  },
  {
   "cell_type": "code",
   "execution_count": 27,
   "id": "b3b880ab-499a-4fef-a9d9-8fdaa286fe11",
   "metadata": {},
   "outputs": [
    {
     "data": {
      "text/html": [
       "<div>\n",
       "<style scoped>\n",
       "    .dataframe tbody tr th:only-of-type {\n",
       "        vertical-align: middle;\n",
       "    }\n",
       "\n",
       "    .dataframe tbody tr th {\n",
       "        vertical-align: top;\n",
       "    }\n",
       "\n",
       "    .dataframe thead th {\n",
       "        text-align: right;\n",
       "    }\n",
       "</style>\n",
       "<table border=\"1\" class=\"dataframe\">\n",
       "  <thead>\n",
       "    <tr style=\"text-align: right;\">\n",
       "      <th></th>\n",
       "      <th>codi</th>\n",
       "      <th>comarca</th>\n",
       "      <th>rfdb_(miles_de_euros)</th>\n",
       "      <th>rfdb_por_habitante_(euros)</th>\n",
       "      <th>rfdb_por_habitante_(index_catalunya=100_por_habitante)</th>\n",
       "      <th>any</th>\n",
       "    </tr>\n",
       "  </thead>\n",
       "  <tbody>\n",
       "    <tr>\n",
       "      <th>0</th>\n",
       "      <td>01</td>\n",
       "      <td>alt camp</td>\n",
       "      <td>747053</td>\n",
       "      <td>16512</td>\n",
       "      <td>90.0</td>\n",
       "      <td>2021</td>\n",
       "    </tr>\n",
       "    <tr>\n",
       "      <th>1</th>\n",
       "      <td>02</td>\n",
       "      <td>alt emporda</td>\n",
       "      <td>2059702</td>\n",
       "      <td>14339</td>\n",
       "      <td>78.1</td>\n",
       "      <td>2021</td>\n",
       "    </tr>\n",
       "    <tr>\n",
       "      <th>2</th>\n",
       "      <td>03</td>\n",
       "      <td>alt penedes</td>\n",
       "      <td>1958312</td>\n",
       "      <td>17716</td>\n",
       "      <td>96.5</td>\n",
       "      <td>2021</td>\n",
       "    </tr>\n",
       "    <tr>\n",
       "      <th>3</th>\n",
       "      <td>04</td>\n",
       "      <td>alt urgell</td>\n",
       "      <td>293835</td>\n",
       "      <td>14416</td>\n",
       "      <td>78.5</td>\n",
       "      <td>2021</td>\n",
       "    </tr>\n",
       "    <tr>\n",
       "      <th>4</th>\n",
       "      <td>05</td>\n",
       "      <td>alta ribagorca</td>\n",
       "      <td>60948</td>\n",
       "      <td>15345</td>\n",
       "      <td>83.6</td>\n",
       "      <td>2021</td>\n",
       "    </tr>\n",
       "  </tbody>\n",
       "</table>\n",
       "</div>"
      ],
      "text/plain": [
       "  codi         comarca  rfdb_(miles_de_euros)  rfdb_por_habitante_(euros)  \\\n",
       "0   01        alt camp                 747053                       16512   \n",
       "1   02     alt emporda                2059702                       14339   \n",
       "2   03     alt penedes                1958312                       17716   \n",
       "3   04      alt urgell                 293835                       14416   \n",
       "4   05  alta ribagorca                  60948                       15345   \n",
       "\n",
       "   rfdb_por_habitante_(index_catalunya=100_por_habitante)   any  \n",
       "0                                               90.0       2021  \n",
       "1                                               78.1       2021  \n",
       "2                                               96.5       2021  \n",
       "3                                               78.5       2021  \n",
       "4                                               83.6       2021  "
      ]
     },
     "metadata": {},
     "output_type": "display_data"
    },
    {
     "name": "stdout",
     "output_type": "stream",
     "text": [
      "<class 'pandas.core.frame.DataFrame'>\n",
      "RangeIndex: 168 entries, 0 to 167\n",
      "Data columns (total 6 columns):\n",
      " #   Column                                                  Non-Null Count  Dtype  \n",
      "---  ------                                                  --------------  -----  \n",
      " 0   codi                                                    168 non-null    object \n",
      " 1   comarca                                                 168 non-null    object \n",
      " 2   rfdb_(miles_de_euros)                                   168 non-null    int64  \n",
      " 3   rfdb_por_habitante_(euros)                              168 non-null    int64  \n",
      " 4   rfdb_por_habitante_(index_catalunya=100_por_habitante)  168 non-null    float64\n",
      " 5   any                                                     168 non-null    int64  \n",
      "dtypes: float64(1), int64(3), object(2)\n",
      "memory usage: 8.0+ KB\n"
     ]
    }
   ],
   "source": [
    "# Convertir la columna 'codi' a tipus string\n",
    "df_renta_familiar['codi'] = df_renta_familiar['codi'].apply(lambda x: str(x).zfill(2))\n",
    "display(df_renta_familiar.head())\n",
    "df_renta_familiar.info()"
   ]
  },
  {
   "cell_type": "code",
   "execution_count": 25,
   "id": "4caee300-dfec-423c-b055-b2c0aefb8cfa",
   "metadata": {},
   "outputs": [],
   "source": [
    "df_renta_familiar.to_csv('clean_data/df_renta_familiar.csv', index=False)"
   ]
  },
  {
   "cell_type": "code",
   "execution_count": null,
   "id": "da544609-006d-4bd5-8ff5-c7510911ffd1",
   "metadata": {},
   "outputs": [],
   "source": []
  },
  {
   "cell_type": "code",
   "execution_count": null,
   "id": "5109abd7-fced-46c7-9e46-37a0ef253ed3",
   "metadata": {},
   "outputs": [],
   "source": []
  }
 ],
 "metadata": {
  "kernelspec": {
   "display_name": "Python 3 (ipykernel)",
   "language": "python",
   "name": "python3"
  },
  "language_info": {
   "codemirror_mode": {
    "name": "ipython",
    "version": 3
   },
   "file_extension": ".py",
   "mimetype": "text/x-python",
   "name": "python",
   "nbconvert_exporter": "python",
   "pygments_lexer": "ipython3",
   "version": "3.12.3"
  }
 },
 "nbformat": 4,
 "nbformat_minor": 5
}
