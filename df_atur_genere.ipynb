{
 "cells": [
  {
   "cell_type": "code",
   "execution_count": 36,
   "id": "ed7f2a86-5138-4099-a7a5-12bb713cf351",
   "metadata": {},
   "outputs": [],
   "source": [
    "import pandas as pd\n",
    "import numpy as np\n",
    "import seaborn as sns\n",
    "import matplotlib.pyplot as plt\n",
    "import unicodedata\n",
    "import os\n",
    "from unidecode import unidecode"
   ]
  },
  {
   "cell_type": "code",
   "execution_count": 38,
   "id": "fbb6cd2b-134c-4c54-b52b-e3ce5bd85762",
   "metadata": {},
   "outputs": [],
   "source": [
    "df_atur_genere_2022 = pd.read_csv('clean_data/2022/df_atur_genere.csv', delimiter=',')\n",
    "df_atur_genere_2021 = pd.read_csv('clean_data/2021/df_atur_genere.csv', delimiter=',') \n",
    "df_atur_genere_2020 = pd.read_csv('clean_data/2020/df_atur_genere.csv', delimiter=',') \n",
    "df_atur_genere_2019 = pd.read_csv('clean_data/2019/df_atur_genere.csv', delimiter=',') \n",
    "df_atur_genere_2018 = pd.read_csv('clean_data/2018/df_atur_genere.csv', delimiter=',')"
   ]
  },
  {
   "cell_type": "code",
   "execution_count": 40,
   "id": "d31ff874-7b29-49b2-b099-627c35497a5e",
   "metadata": {
    "scrolled": true
   },
   "outputs": [
    {
     "name": "stdout",
     "output_type": "stream",
     "text": [
      "Info Dataset df_atur_genere_2022:\n",
      "<class 'pandas.core.frame.DataFrame'>\n",
      "RangeIndex: 42 entries, 0 to 41\n",
      "Data columns (total 5 columns):\n",
      " #   Column       Non-Null Count  Dtype \n",
      "---  ------       --------------  ----- \n",
      " 0   codi         42 non-null     int64 \n",
      " 1   comarca      42 non-null     object\n",
      " 2   total_homes  42 non-null     int64 \n",
      " 3   total_dones  42 non-null     int64 \n",
      " 4   total        42 non-null     int64 \n",
      "dtypes: int64(4), object(1)\n",
      "memory usage: 1.8+ KB\n"
     ]
    },
    {
     "data": {
      "text/plain": [
       "None"
      ]
     },
     "metadata": {},
     "output_type": "display_data"
    },
    {
     "name": "stdout",
     "output_type": "stream",
     "text": [
      "\n",
      "\n",
      "Info Dataset df_atur_genere_2021:\n",
      "<class 'pandas.core.frame.DataFrame'>\n",
      "RangeIndex: 42 entries, 0 to 41\n",
      "Data columns (total 5 columns):\n",
      " #   Column       Non-Null Count  Dtype \n",
      "---  ------       --------------  ----- \n",
      " 0   codi         42 non-null     int64 \n",
      " 1   comarca      42 non-null     object\n",
      " 2   total_homes  42 non-null     int64 \n",
      " 3   total_dones  42 non-null     int64 \n",
      " 4   total        42 non-null     int64 \n",
      "dtypes: int64(4), object(1)\n",
      "memory usage: 1.8+ KB\n"
     ]
    },
    {
     "data": {
      "text/plain": [
       "None"
      ]
     },
     "metadata": {},
     "output_type": "display_data"
    },
    {
     "name": "stdout",
     "output_type": "stream",
     "text": [
      "\n",
      "\n",
      "Info Dataset df_atur_genere_2020:\n",
      "<class 'pandas.core.frame.DataFrame'>\n",
      "RangeIndex: 42 entries, 0 to 41\n",
      "Data columns (total 5 columns):\n",
      " #   Column       Non-Null Count  Dtype \n",
      "---  ------       --------------  ----- \n",
      " 0   codi         42 non-null     int64 \n",
      " 1   comarca      42 non-null     object\n",
      " 2   total_homes  42 non-null     int64 \n",
      " 3   total_dones  42 non-null     int64 \n",
      " 4   total        42 non-null     int64 \n",
      "dtypes: int64(4), object(1)\n",
      "memory usage: 1.8+ KB\n"
     ]
    },
    {
     "data": {
      "text/plain": [
       "None"
      ]
     },
     "metadata": {},
     "output_type": "display_data"
    },
    {
     "name": "stdout",
     "output_type": "stream",
     "text": [
      "\n",
      "\n",
      "Info Dataset df_atur_genere_2019:\n",
      "<class 'pandas.core.frame.DataFrame'>\n",
      "RangeIndex: 42 entries, 0 to 41\n",
      "Data columns (total 5 columns):\n",
      " #   Column       Non-Null Count  Dtype \n",
      "---  ------       --------------  ----- \n",
      " 0   codi         42 non-null     int64 \n",
      " 1   comarca      42 non-null     object\n",
      " 2   total_homes  42 non-null     int64 \n",
      " 3   total_dones  42 non-null     int64 \n",
      " 4   total        42 non-null     int64 \n",
      "dtypes: int64(4), object(1)\n",
      "memory usage: 1.8+ KB\n"
     ]
    },
    {
     "data": {
      "text/plain": [
       "None"
      ]
     },
     "metadata": {},
     "output_type": "display_data"
    },
    {
     "name": "stdout",
     "output_type": "stream",
     "text": [
      "\n",
      "\n",
      "Info Dataset df_atur_genere_2018:\n",
      "<class 'pandas.core.frame.DataFrame'>\n",
      "RangeIndex: 42 entries, 0 to 41\n",
      "Data columns (total 5 columns):\n",
      " #   Column       Non-Null Count  Dtype \n",
      "---  ------       --------------  ----- \n",
      " 0   codi         42 non-null     int64 \n",
      " 1   comarca      42 non-null     object\n",
      " 2   total_homes  42 non-null     int64 \n",
      " 3   total_dones  42 non-null     int64 \n",
      " 4   total        42 non-null     int64 \n",
      "dtypes: int64(4), object(1)\n",
      "memory usage: 1.8+ KB\n"
     ]
    },
    {
     "data": {
      "text/plain": [
       "None"
      ]
     },
     "metadata": {},
     "output_type": "display_data"
    },
    {
     "name": "stdout",
     "output_type": "stream",
     "text": [
      "\n",
      "\n"
     ]
    }
   ],
   "source": [
    "datasets = {\n",
    "    'df_atur_genere_2022': df_atur_genere_2022,\n",
    "    'df_atur_genere_2021': df_atur_genere_2021,\n",
    "    'df_atur_genere_2020': df_atur_genere_2020,\n",
    "    'df_atur_genere_2019': df_atur_genere_2019,\n",
    "    'df_atur_genere_2018': df_atur_genere_2018,\n",
    "}\n",
    "\n",
    "# Iterar sobre el diccionari per mostrar les primeres files de cada dataset\n",
    "for name, df in datasets.items():\n",
    "    print(f\"Info Dataset {name}:\")\n",
    "    display(df.info()) \n",
    "    print(\"\\n\") "
   ]
  },
  {
   "cell_type": "code",
   "execution_count": 42,
   "id": "b8621f07-567b-4f86-8ed6-12c51f8fd8c6",
   "metadata": {},
   "outputs": [
    {
     "data": {
      "text/html": [
       "<div>\n",
       "<style scoped>\n",
       "    .dataframe tbody tr th:only-of-type {\n",
       "        vertical-align: middle;\n",
       "    }\n",
       "\n",
       "    .dataframe tbody tr th {\n",
       "        vertical-align: top;\n",
       "    }\n",
       "\n",
       "    .dataframe thead th {\n",
       "        text-align: right;\n",
       "    }\n",
       "</style>\n",
       "<table border=\"1\" class=\"dataframe\">\n",
       "  <thead>\n",
       "    <tr style=\"text-align: right;\">\n",
       "      <th></th>\n",
       "      <th>codi</th>\n",
       "      <th>comarca</th>\n",
       "      <th>total_homes</th>\n",
       "      <th>total_dones</th>\n",
       "      <th>total</th>\n",
       "      <th>any</th>\n",
       "    </tr>\n",
       "  </thead>\n",
       "  <tbody>\n",
       "    <tr>\n",
       "      <th>0</th>\n",
       "      <td>1</td>\n",
       "      <td>alt camp</td>\n",
       "      <td>1050</td>\n",
       "      <td>1378</td>\n",
       "      <td>2427</td>\n",
       "      <td>2022</td>\n",
       "    </tr>\n",
       "    <tr>\n",
       "      <th>1</th>\n",
       "      <td>2</td>\n",
       "      <td>alt emporda</td>\n",
       "      <td>2709</td>\n",
       "      <td>3659</td>\n",
       "      <td>6368</td>\n",
       "      <td>2022</td>\n",
       "    </tr>\n",
       "    <tr>\n",
       "      <th>2</th>\n",
       "      <td>3</td>\n",
       "      <td>alt penedes</td>\n",
       "      <td>2050</td>\n",
       "      <td>2949</td>\n",
       "      <td>4998</td>\n",
       "      <td>2022</td>\n",
       "    </tr>\n",
       "    <tr>\n",
       "      <th>3</th>\n",
       "      <td>4</td>\n",
       "      <td>alt urgell</td>\n",
       "      <td>307</td>\n",
       "      <td>434</td>\n",
       "      <td>740</td>\n",
       "      <td>2022</td>\n",
       "    </tr>\n",
       "    <tr>\n",
       "      <th>4</th>\n",
       "      <td>5</td>\n",
       "      <td>alta ribagorca</td>\n",
       "      <td>47</td>\n",
       "      <td>55</td>\n",
       "      <td>101</td>\n",
       "      <td>2022</td>\n",
       "    </tr>\n",
       "    <tr>\n",
       "      <th>...</th>\n",
       "      <td>...</td>\n",
       "      <td>...</td>\n",
       "      <td>...</td>\n",
       "      <td>...</td>\n",
       "      <td>...</td>\n",
       "      <td>...</td>\n",
       "    </tr>\n",
       "    <tr>\n",
       "      <th>205</th>\n",
       "      <td>38</td>\n",
       "      <td>urgell</td>\n",
       "      <td>738</td>\n",
       "      <td>1046</td>\n",
       "      <td>1783</td>\n",
       "      <td>2018</td>\n",
       "    </tr>\n",
       "    <tr>\n",
       "      <th>206</th>\n",
       "      <td>39</td>\n",
       "      <td>aran</td>\n",
       "      <td>146</td>\n",
       "      <td>155</td>\n",
       "      <td>300</td>\n",
       "      <td>2018</td>\n",
       "    </tr>\n",
       "    <tr>\n",
       "      <th>207</th>\n",
       "      <td>40</td>\n",
       "      <td>valles occidental</td>\n",
       "      <td>21024</td>\n",
       "      <td>29561</td>\n",
       "      <td>50585</td>\n",
       "      <td>2018</td>\n",
       "    </tr>\n",
       "    <tr>\n",
       "      <th>208</th>\n",
       "      <td>41</td>\n",
       "      <td>valles oriental</td>\n",
       "      <td>8957</td>\n",
       "      <td>12830</td>\n",
       "      <td>21786</td>\n",
       "      <td>2018</td>\n",
       "    </tr>\n",
       "    <tr>\n",
       "      <th>209</th>\n",
       "      <td>42</td>\n",
       "      <td>moianes</td>\n",
       "      <td>198</td>\n",
       "      <td>296</td>\n",
       "      <td>493</td>\n",
       "      <td>2018</td>\n",
       "    </tr>\n",
       "  </tbody>\n",
       "</table>\n",
       "<p>210 rows × 6 columns</p>\n",
       "</div>"
      ],
      "text/plain": [
       "     codi            comarca  total_homes  total_dones  total   any\n",
       "0       1           alt camp         1050         1378   2427  2022\n",
       "1       2        alt emporda         2709         3659   6368  2022\n",
       "2       3        alt penedes         2050         2949   4998  2022\n",
       "3       4         alt urgell          307          434    740  2022\n",
       "4       5     alta ribagorca           47           55    101  2022\n",
       "..    ...                ...          ...          ...    ...   ...\n",
       "205    38             urgell          738         1046   1783  2018\n",
       "206    39               aran          146          155    300  2018\n",
       "207    40  valles occidental        21024        29561  50585  2018\n",
       "208    41    valles oriental         8957        12830  21786  2018\n",
       "209    42            moianes          198          296    493  2018\n",
       "\n",
       "[210 rows x 6 columns]"
      ]
     },
     "execution_count": 42,
     "metadata": {},
     "output_type": "execute_result"
    }
   ],
   "source": [
    "# Crear una llista de DataFrames amb els seus anys corresponents\n",
    "datasets = [\n",
    "    (df_atur_genere_2022, 2022),\n",
    "    (df_atur_genere_2021, 2021),\n",
    "    (df_atur_genere_2020, 2020),\n",
    "    (df_atur_genere_2019, 2019),\n",
    "    (df_atur_genere_2018, 2018)\n",
    "]\n",
    "\n",
    "# Afegir la columna 'any' i concatenar tots els DataFrames\n",
    "df_atur_genere = pd.concat([df.assign(any=year) for df, year in datasets], ignore_index=True)\n",
    "\n",
    "# Mostrar la informació final\n",
    "df_atur_genere"
   ]
  },
  {
   "cell_type": "code",
   "execution_count": 44,
   "id": "d732646b-1db6-4135-9c05-216295a7d310",
   "metadata": {},
   "outputs": [
    {
     "name": "stdout",
     "output_type": "stream",
     "text": [
      "<class 'pandas.core.frame.DataFrame'>\n",
      "RangeIndex: 210 entries, 0 to 209\n",
      "Data columns (total 6 columns):\n",
      " #   Column       Non-Null Count  Dtype \n",
      "---  ------       --------------  ----- \n",
      " 0   codi         210 non-null    int64 \n",
      " 1   comarca      210 non-null    object\n",
      " 2   total_homes  210 non-null    int64 \n",
      " 3   total_dones  210 non-null    int64 \n",
      " 4   total        210 non-null    int64 \n",
      " 5   any          210 non-null    int64 \n",
      "dtypes: int64(5), object(1)\n",
      "memory usage: 10.0+ KB\n"
     ]
    }
   ],
   "source": [
    "df_atur_genere.info()"
   ]
  },
  {
   "cell_type": "code",
   "execution_count": 48,
   "id": "ae5019ee-4218-40a3-b905-fb5b38a083d8",
   "metadata": {},
   "outputs": [
    {
     "data": {
      "text/html": [
       "<div>\n",
       "<style scoped>\n",
       "    .dataframe tbody tr th:only-of-type {\n",
       "        vertical-align: middle;\n",
       "    }\n",
       "\n",
       "    .dataframe tbody tr th {\n",
       "        vertical-align: top;\n",
       "    }\n",
       "\n",
       "    .dataframe thead th {\n",
       "        text-align: right;\n",
       "    }\n",
       "</style>\n",
       "<table border=\"1\" class=\"dataframe\">\n",
       "  <thead>\n",
       "    <tr style=\"text-align: right;\">\n",
       "      <th></th>\n",
       "      <th>codi</th>\n",
       "      <th>comarca</th>\n",
       "      <th>total_homes</th>\n",
       "      <th>total_dones</th>\n",
       "      <th>total</th>\n",
       "      <th>any</th>\n",
       "    </tr>\n",
       "  </thead>\n",
       "  <tbody>\n",
       "    <tr>\n",
       "      <th>0</th>\n",
       "      <td>01</td>\n",
       "      <td>alt camp</td>\n",
       "      <td>1050</td>\n",
       "      <td>1378</td>\n",
       "      <td>2427</td>\n",
       "      <td>2022</td>\n",
       "    </tr>\n",
       "    <tr>\n",
       "      <th>1</th>\n",
       "      <td>02</td>\n",
       "      <td>alt emporda</td>\n",
       "      <td>2709</td>\n",
       "      <td>3659</td>\n",
       "      <td>6368</td>\n",
       "      <td>2022</td>\n",
       "    </tr>\n",
       "    <tr>\n",
       "      <th>2</th>\n",
       "      <td>03</td>\n",
       "      <td>alt penedes</td>\n",
       "      <td>2050</td>\n",
       "      <td>2949</td>\n",
       "      <td>4998</td>\n",
       "      <td>2022</td>\n",
       "    </tr>\n",
       "    <tr>\n",
       "      <th>3</th>\n",
       "      <td>04</td>\n",
       "      <td>alt urgell</td>\n",
       "      <td>307</td>\n",
       "      <td>434</td>\n",
       "      <td>740</td>\n",
       "      <td>2022</td>\n",
       "    </tr>\n",
       "    <tr>\n",
       "      <th>4</th>\n",
       "      <td>05</td>\n",
       "      <td>alta ribagorca</td>\n",
       "      <td>47</td>\n",
       "      <td>55</td>\n",
       "      <td>101</td>\n",
       "      <td>2022</td>\n",
       "    </tr>\n",
       "  </tbody>\n",
       "</table>\n",
       "</div>"
      ],
      "text/plain": [
       "  codi         comarca  total_homes  total_dones  total   any\n",
       "0   01        alt camp         1050         1378   2427  2022\n",
       "1   02     alt emporda         2709         3659   6368  2022\n",
       "2   03     alt penedes         2050         2949   4998  2022\n",
       "3   04      alt urgell          307          434    740  2022\n",
       "4   05  alta ribagorca           47           55    101  2022"
      ]
     },
     "metadata": {},
     "output_type": "display_data"
    },
    {
     "name": "stdout",
     "output_type": "stream",
     "text": [
      "<class 'pandas.core.frame.DataFrame'>\n",
      "RangeIndex: 210 entries, 0 to 209\n",
      "Data columns (total 6 columns):\n",
      " #   Column       Non-Null Count  Dtype \n",
      "---  ------       --------------  ----- \n",
      " 0   codi         210 non-null    object\n",
      " 1   comarca      210 non-null    object\n",
      " 2   total_homes  210 non-null    int64 \n",
      " 3   total_dones  210 non-null    int64 \n",
      " 4   total        210 non-null    int64 \n",
      " 5   any          210 non-null    int64 \n",
      "dtypes: int64(4), object(2)\n",
      "memory usage: 10.0+ KB\n"
     ]
    }
   ],
   "source": [
    "# Convertir la columna 'codi' a tipus string\n",
    "df_atur_genere['codi'] = df_atur_genere['codi'].apply(lambda x: str(x).zfill(2))\n",
    "display(df_atur_genere.head())\n",
    "df_atur_genere.info()"
   ]
  },
  {
   "cell_type": "code",
   "execution_count": 50,
   "id": "4caee300-dfec-423c-b055-b2c0aefb8cfa",
   "metadata": {},
   "outputs": [],
   "source": [
    "df_atur_genere.to_csv('clean_data/df_atur_genere.csv', index=False)"
   ]
  },
  {
   "cell_type": "code",
   "execution_count": null,
   "id": "602a79ff-e1f8-42e0-bc48-b33735019457",
   "metadata": {},
   "outputs": [],
   "source": []
  },
  {
   "cell_type": "code",
   "execution_count": null,
   "id": "ae276271-00c4-43e1-bac8-73b9f3197b76",
   "metadata": {},
   "outputs": [],
   "source": []
  },
  {
   "cell_type": "code",
   "execution_count": null,
   "id": "f4a1ecee-03d4-4b95-b584-6f7667f903ee",
   "metadata": {},
   "outputs": [],
   "source": []
  },
  {
   "cell_type": "code",
   "execution_count": null,
   "id": "eab02515-c483-4f30-a9e9-f857d162f88d",
   "metadata": {},
   "outputs": [],
   "source": []
  },
  {
   "cell_type": "code",
   "execution_count": null,
   "id": "f5995951-e6d0-4eb3-b7e8-62740a61e491",
   "metadata": {},
   "outputs": [],
   "source": []
  },
  {
   "cell_type": "code",
   "execution_count": null,
   "id": "da544609-006d-4bd5-8ff5-c7510911ffd1",
   "metadata": {},
   "outputs": [],
   "source": []
  },
  {
   "cell_type": "code",
   "execution_count": null,
   "id": "5109abd7-fced-46c7-9e46-37a0ef253ed3",
   "metadata": {},
   "outputs": [],
   "source": []
  }
 ],
 "metadata": {
  "kernelspec": {
   "display_name": "Python 3 (ipykernel)",
   "language": "python",
   "name": "python3"
  },
  "language_info": {
   "codemirror_mode": {
    "name": "ipython",
    "version": 3
   },
   "file_extension": ".py",
   "mimetype": "text/x-python",
   "name": "python",
   "nbconvert_exporter": "python",
   "pygments_lexer": "ipython3",
   "version": "3.12.3"
  }
 },
 "nbformat": 4,
 "nbformat_minor": 5
}
