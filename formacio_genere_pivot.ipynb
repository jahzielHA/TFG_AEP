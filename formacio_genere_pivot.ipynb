{
 "cells": [
  {
   "cell_type": "code",
   "execution_count": 1,
   "id": "ed7f2a86-5138-4099-a7a5-12bb713cf351",
   "metadata": {},
   "outputs": [],
   "source": [
    "import pandas as pd\n",
    "import numpy as np\n",
    "import seaborn as sns\n",
    "import matplotlib.pyplot as plt\n",
    "import unicodedata\n",
    "import os\n",
    "from unidecode import unidecode"
   ]
  },
  {
   "cell_type": "code",
   "execution_count": 3,
   "id": "fbb6cd2b-134c-4c54-b52b-e3ce5bd85762",
   "metadata": {},
   "outputs": [],
   "source": [
    "formacio_genere_pivot_2022 = pd.read_csv('clean_data/2022/formacio_genere_pivot.csv', delimiter=',')\n",
    "formacio_genere_pivot_2021 = pd.read_csv('clean_data/2021/formacio_genere_pivot.csv', delimiter=',') "
   ]
  },
  {
   "cell_type": "code",
   "execution_count": 5,
   "id": "d31ff874-7b29-49b2-b099-627c35497a5e",
   "metadata": {
    "scrolled": true
   },
   "outputs": [
    {
     "name": "stdout",
     "output_type": "stream",
     "text": [
      "Info Dataset formacio_genere_pivot_2022:\n",
      "<class 'pandas.core.frame.DataFrame'>\n",
      "RangeIndex: 252 entries, 0 to 251\n",
      "Data columns (total 5 columns):\n",
      " #   Column         Non-Null Count  Dtype \n",
      "---  ------         --------------  ----- \n",
      " 0   codi           252 non-null    int64 \n",
      " 1   comarca        252 non-null    object\n",
      " 2   tipus_estudis  252 non-null    object\n",
      " 3   sexe           252 non-null    object\n",
      " 4   valor          252 non-null    int64 \n",
      "dtypes: int64(2), object(3)\n",
      "memory usage: 10.0+ KB\n"
     ]
    },
    {
     "data": {
      "text/plain": [
       "None"
      ]
     },
     "metadata": {},
     "output_type": "display_data"
    },
    {
     "name": "stdout",
     "output_type": "stream",
     "text": [
      "\n",
      "\n",
      "Info Dataset formacio_genere_pivot_2021:\n",
      "<class 'pandas.core.frame.DataFrame'>\n",
      "RangeIndex: 252 entries, 0 to 251\n",
      "Data columns (total 5 columns):\n",
      " #   Column         Non-Null Count  Dtype \n",
      "---  ------         --------------  ----- \n",
      " 0   codi           252 non-null    int64 \n",
      " 1   comarca        252 non-null    object\n",
      " 2   tipus_estudis  252 non-null    object\n",
      " 3   sexe           252 non-null    object\n",
      " 4   valor          252 non-null    int64 \n",
      "dtypes: int64(2), object(3)\n",
      "memory usage: 10.0+ KB\n"
     ]
    },
    {
     "data": {
      "text/plain": [
       "None"
      ]
     },
     "metadata": {},
     "output_type": "display_data"
    },
    {
     "name": "stdout",
     "output_type": "stream",
     "text": [
      "\n",
      "\n"
     ]
    }
   ],
   "source": [
    "datasets = {\n",
    "    'formacio_genere_pivot_2022': formacio_genere_pivot_2022,\n",
    "    'formacio_genere_pivot_2021': formacio_genere_pivot_2021,\n",
    "}\n",
    "\n",
    "# Iterar sobre el diccionari per mostrar les primeres files de cada dataset\n",
    "for name, df in datasets.items():\n",
    "    print(f\"Info Dataset {name}:\")\n",
    "    display(df.info()) \n",
    "    print(\"\\n\") "
   ]
  },
  {
   "cell_type": "code",
   "execution_count": 7,
   "id": "b8621f07-567b-4f86-8ed6-12c51f8fd8c6",
   "metadata": {},
   "outputs": [
    {
     "data": {
      "text/html": [
       "<div>\n",
       "<style scoped>\n",
       "    .dataframe tbody tr th:only-of-type {\n",
       "        vertical-align: middle;\n",
       "    }\n",
       "\n",
       "    .dataframe tbody tr th {\n",
       "        vertical-align: top;\n",
       "    }\n",
       "\n",
       "    .dataframe thead th {\n",
       "        text-align: right;\n",
       "    }\n",
       "</style>\n",
       "<table border=\"1\" class=\"dataframe\">\n",
       "  <thead>\n",
       "    <tr style=\"text-align: right;\">\n",
       "      <th></th>\n",
       "      <th>codi</th>\n",
       "      <th>comarca</th>\n",
       "      <th>tipus_estudis</th>\n",
       "      <th>sexe</th>\n",
       "      <th>valor</th>\n",
       "      <th>any</th>\n",
       "    </tr>\n",
       "  </thead>\n",
       "  <tbody>\n",
       "    <tr>\n",
       "      <th>0</th>\n",
       "      <td>1</td>\n",
       "      <td>alt camp</td>\n",
       "      <td>educacio_obligatoria</td>\n",
       "      <td>dones</td>\n",
       "      <td>12360</td>\n",
       "      <td>2022</td>\n",
       "    </tr>\n",
       "    <tr>\n",
       "      <th>1</th>\n",
       "      <td>1</td>\n",
       "      <td>alt camp</td>\n",
       "      <td>educacio_obligatoria</td>\n",
       "      <td>homes</td>\n",
       "      <td>13899</td>\n",
       "      <td>2022</td>\n",
       "    </tr>\n",
       "    <tr>\n",
       "      <th>2</th>\n",
       "      <td>1</td>\n",
       "      <td>alt camp</td>\n",
       "      <td>estudis_superiors</td>\n",
       "      <td>dones</td>\n",
       "      <td>5841</td>\n",
       "      <td>2022</td>\n",
       "    </tr>\n",
       "    <tr>\n",
       "      <th>3</th>\n",
       "      <td>1</td>\n",
       "      <td>alt camp</td>\n",
       "      <td>estudis_superiors</td>\n",
       "      <td>homes</td>\n",
       "      <td>5229</td>\n",
       "      <td>2022</td>\n",
       "    </tr>\n",
       "    <tr>\n",
       "      <th>4</th>\n",
       "      <td>1</td>\n",
       "      <td>alt camp</td>\n",
       "      <td>sense_educacio</td>\n",
       "      <td>dones</td>\n",
       "      <td>780</td>\n",
       "      <td>2022</td>\n",
       "    </tr>\n",
       "    <tr>\n",
       "      <th>...</th>\n",
       "      <td>...</td>\n",
       "      <td>...</td>\n",
       "      <td>...</td>\n",
       "      <td>...</td>\n",
       "      <td>...</td>\n",
       "      <td>...</td>\n",
       "    </tr>\n",
       "    <tr>\n",
       "      <th>499</th>\n",
       "      <td>42</td>\n",
       "      <td>moianes</td>\n",
       "      <td>educacio_obligatoria</td>\n",
       "      <td>homes</td>\n",
       "      <td>4287</td>\n",
       "      <td>2021</td>\n",
       "    </tr>\n",
       "    <tr>\n",
       "      <th>500</th>\n",
       "      <td>42</td>\n",
       "      <td>moianes</td>\n",
       "      <td>estudis_superiors</td>\n",
       "      <td>dones</td>\n",
       "      <td>2160</td>\n",
       "      <td>2021</td>\n",
       "    </tr>\n",
       "    <tr>\n",
       "      <th>501</th>\n",
       "      <td>42</td>\n",
       "      <td>moianes</td>\n",
       "      <td>estudis_superiors</td>\n",
       "      <td>homes</td>\n",
       "      <td>1920</td>\n",
       "      <td>2021</td>\n",
       "    </tr>\n",
       "    <tr>\n",
       "      <th>502</th>\n",
       "      <td>42</td>\n",
       "      <td>moianes</td>\n",
       "      <td>sense_educacio</td>\n",
       "      <td>dones</td>\n",
       "      <td>108</td>\n",
       "      <td>2021</td>\n",
       "    </tr>\n",
       "    <tr>\n",
       "      <th>503</th>\n",
       "      <td>42</td>\n",
       "      <td>moianes</td>\n",
       "      <td>sense_educacio</td>\n",
       "      <td>homes</td>\n",
       "      <td>66</td>\n",
       "      <td>2021</td>\n",
       "    </tr>\n",
       "  </tbody>\n",
       "</table>\n",
       "<p>504 rows × 6 columns</p>\n",
       "</div>"
      ],
      "text/plain": [
       "     codi   comarca         tipus_estudis   sexe  valor   any\n",
       "0       1  alt camp  educacio_obligatoria  dones  12360  2022\n",
       "1       1  alt camp  educacio_obligatoria  homes  13899  2022\n",
       "2       1  alt camp     estudis_superiors  dones   5841  2022\n",
       "3       1  alt camp     estudis_superiors  homes   5229  2022\n",
       "4       1  alt camp        sense_educacio  dones    780  2022\n",
       "..    ...       ...                   ...    ...    ...   ...\n",
       "499    42   moianes  educacio_obligatoria  homes   4287  2021\n",
       "500    42   moianes     estudis_superiors  dones   2160  2021\n",
       "501    42   moianes     estudis_superiors  homes   1920  2021\n",
       "502    42   moianes        sense_educacio  dones    108  2021\n",
       "503    42   moianes        sense_educacio  homes     66  2021\n",
       "\n",
       "[504 rows x 6 columns]"
      ]
     },
     "execution_count": 7,
     "metadata": {},
     "output_type": "execute_result"
    }
   ],
   "source": [
    "# Crear una llista de DataFrames amb els seus anys corresponents\n",
    "datasets = [\n",
    "    (formacio_genere_pivot_2022, 2022),\n",
    "    (formacio_genere_pivot_2021, 2021),\n",
    "]\n",
    "\n",
    "# Afegir la columna 'any' i concatenar tots els DataFrames\n",
    "formacio_genere_pivot = pd.concat([df.assign(any=year) for df, year in datasets], ignore_index=True)\n",
    "\n",
    "# Mostrar la informació final\n",
    "formacio_genere_pivot"
   ]
  },
  {
   "cell_type": "code",
   "execution_count": 9,
   "id": "d732646b-1db6-4135-9c05-216295a7d310",
   "metadata": {},
   "outputs": [
    {
     "name": "stdout",
     "output_type": "stream",
     "text": [
      "<class 'pandas.core.frame.DataFrame'>\n",
      "RangeIndex: 504 entries, 0 to 503\n",
      "Data columns (total 6 columns):\n",
      " #   Column         Non-Null Count  Dtype \n",
      "---  ------         --------------  ----- \n",
      " 0   codi           504 non-null    int64 \n",
      " 1   comarca        504 non-null    object\n",
      " 2   tipus_estudis  504 non-null    object\n",
      " 3   sexe           504 non-null    object\n",
      " 4   valor          504 non-null    int64 \n",
      " 5   any            504 non-null    int64 \n",
      "dtypes: int64(3), object(3)\n",
      "memory usage: 23.8+ KB\n"
     ]
    }
   ],
   "source": [
    "formacio_genere_pivot.info()"
   ]
  },
  {
   "cell_type": "code",
   "execution_count": 11,
   "id": "2ef47738-3169-4a13-81a0-e9139ea3d8b6",
   "metadata": {},
   "outputs": [
    {
     "data": {
      "text/html": [
       "<div>\n",
       "<style scoped>\n",
       "    .dataframe tbody tr th:only-of-type {\n",
       "        vertical-align: middle;\n",
       "    }\n",
       "\n",
       "    .dataframe tbody tr th {\n",
       "        vertical-align: top;\n",
       "    }\n",
       "\n",
       "    .dataframe thead th {\n",
       "        text-align: right;\n",
       "    }\n",
       "</style>\n",
       "<table border=\"1\" class=\"dataframe\">\n",
       "  <thead>\n",
       "    <tr style=\"text-align: right;\">\n",
       "      <th></th>\n",
       "      <th>codi</th>\n",
       "      <th>comarca</th>\n",
       "      <th>tipus_estudis</th>\n",
       "      <th>sexe</th>\n",
       "      <th>valor</th>\n",
       "      <th>any</th>\n",
       "    </tr>\n",
       "  </thead>\n",
       "  <tbody>\n",
       "    <tr>\n",
       "      <th>0</th>\n",
       "      <td>01</td>\n",
       "      <td>alt camp</td>\n",
       "      <td>educacio_obligatoria</td>\n",
       "      <td>dones</td>\n",
       "      <td>12360</td>\n",
       "      <td>2022</td>\n",
       "    </tr>\n",
       "    <tr>\n",
       "      <th>1</th>\n",
       "      <td>01</td>\n",
       "      <td>alt camp</td>\n",
       "      <td>educacio_obligatoria</td>\n",
       "      <td>homes</td>\n",
       "      <td>13899</td>\n",
       "      <td>2022</td>\n",
       "    </tr>\n",
       "    <tr>\n",
       "      <th>2</th>\n",
       "      <td>01</td>\n",
       "      <td>alt camp</td>\n",
       "      <td>estudis_superiors</td>\n",
       "      <td>dones</td>\n",
       "      <td>5841</td>\n",
       "      <td>2022</td>\n",
       "    </tr>\n",
       "    <tr>\n",
       "      <th>3</th>\n",
       "      <td>01</td>\n",
       "      <td>alt camp</td>\n",
       "      <td>estudis_superiors</td>\n",
       "      <td>homes</td>\n",
       "      <td>5229</td>\n",
       "      <td>2022</td>\n",
       "    </tr>\n",
       "    <tr>\n",
       "      <th>4</th>\n",
       "      <td>01</td>\n",
       "      <td>alt camp</td>\n",
       "      <td>sense_educacio</td>\n",
       "      <td>dones</td>\n",
       "      <td>780</td>\n",
       "      <td>2022</td>\n",
       "    </tr>\n",
       "  </tbody>\n",
       "</table>\n",
       "</div>"
      ],
      "text/plain": [
       "  codi   comarca         tipus_estudis   sexe  valor   any\n",
       "0   01  alt camp  educacio_obligatoria  dones  12360  2022\n",
       "1   01  alt camp  educacio_obligatoria  homes  13899  2022\n",
       "2   01  alt camp     estudis_superiors  dones   5841  2022\n",
       "3   01  alt camp     estudis_superiors  homes   5229  2022\n",
       "4   01  alt camp        sense_educacio  dones    780  2022"
      ]
     },
     "metadata": {},
     "output_type": "display_data"
    },
    {
     "name": "stdout",
     "output_type": "stream",
     "text": [
      "<class 'pandas.core.frame.DataFrame'>\n",
      "RangeIndex: 504 entries, 0 to 503\n",
      "Data columns (total 6 columns):\n",
      " #   Column         Non-Null Count  Dtype \n",
      "---  ------         --------------  ----- \n",
      " 0   codi           504 non-null    object\n",
      " 1   comarca        504 non-null    object\n",
      " 2   tipus_estudis  504 non-null    object\n",
      " 3   sexe           504 non-null    object\n",
      " 4   valor          504 non-null    int64 \n",
      " 5   any            504 non-null    int64 \n",
      "dtypes: int64(2), object(4)\n",
      "memory usage: 23.8+ KB\n"
     ]
    }
   ],
   "source": [
    "# Convertir la columna 'codi' a tipus string\n",
    "formacio_genere_pivot['codi'] = formacio_genere_pivot['codi'].apply(lambda x: str(x).zfill(2))\n",
    "display(formacio_genere_pivot.head())\n",
    "formacio_genere_pivot.info()"
   ]
  },
  {
   "cell_type": "code",
   "execution_count": 13,
   "id": "4caee300-dfec-423c-b055-b2c0aefb8cfa",
   "metadata": {},
   "outputs": [],
   "source": [
    "formacio_genere_pivot.to_csv('clean_data/formacio_genere_pivot.csv', index=False)"
   ]
  },
  {
   "cell_type": "code",
   "execution_count": null,
   "id": "602a79ff-e1f8-42e0-bc48-b33735019457",
   "metadata": {},
   "outputs": [],
   "source": []
  },
  {
   "cell_type": "code",
   "execution_count": null,
   "id": "ae276271-00c4-43e1-bac8-73b9f3197b76",
   "metadata": {},
   "outputs": [],
   "source": []
  },
  {
   "cell_type": "code",
   "execution_count": null,
   "id": "f4a1ecee-03d4-4b95-b584-6f7667f903ee",
   "metadata": {},
   "outputs": [],
   "source": []
  },
  {
   "cell_type": "code",
   "execution_count": null,
   "id": "eab02515-c483-4f30-a9e9-f857d162f88d",
   "metadata": {},
   "outputs": [],
   "source": []
  },
  {
   "cell_type": "code",
   "execution_count": null,
   "id": "f5995951-e6d0-4eb3-b7e8-62740a61e491",
   "metadata": {},
   "outputs": [],
   "source": []
  },
  {
   "cell_type": "code",
   "execution_count": null,
   "id": "da544609-006d-4bd5-8ff5-c7510911ffd1",
   "metadata": {},
   "outputs": [],
   "source": []
  },
  {
   "cell_type": "code",
   "execution_count": null,
   "id": "5109abd7-fced-46c7-9e46-37a0ef253ed3",
   "metadata": {},
   "outputs": [],
   "source": []
  }
 ],
 "metadata": {
  "kernelspec": {
   "display_name": "Python 3 (ipykernel)",
   "language": "python",
   "name": "python3"
  },
  "language_info": {
   "codemirror_mode": {
    "name": "ipython",
    "version": 3
   },
   "file_extension": ".py",
   "mimetype": "text/x-python",
   "name": "python",
   "nbconvert_exporter": "python",
   "pygments_lexer": "ipython3",
   "version": "3.12.3"
  }
 },
 "nbformat": 4,
 "nbformat_minor": 5
}
