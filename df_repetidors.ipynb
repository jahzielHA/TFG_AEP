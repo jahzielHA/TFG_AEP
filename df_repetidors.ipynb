{
 "cells": [
  {
   "cell_type": "code",
   "execution_count": 14,
   "id": "ed7f2a86-5138-4099-a7a5-12bb713cf351",
   "metadata": {},
   "outputs": [],
   "source": [
    "import pandas as pd\n",
    "import numpy as np\n",
    "import seaborn as sns\n",
    "import matplotlib.pyplot as plt\n",
    "import unicodedata\n",
    "import os\n",
    "from unidecode import unidecode"
   ]
  },
  {
   "cell_type": "code",
   "execution_count": 16,
   "id": "fbb6cd2b-134c-4c54-b52b-e3ce5bd85762",
   "metadata": {},
   "outputs": [],
   "source": [
    "df_repetidors_2022 = pd.read_csv('clean_data/2022/df_repetidors.csv', delimiter=',')\n",
    "df_repetidors_2021 = pd.read_csv('clean_data/2021/df_repetidors.csv', delimiter=',') \n",
    "df_repetidors_2020 = pd.read_csv('clean_data/2020/df_repetidors.csv', delimiter=',') \n",
    "df_repetidors_2019 = pd.read_csv('clean_data/2019/df_repetidors.csv', delimiter=',') \n",
    "df_repetidors_2018 = pd.read_csv('clean_data/2018/df_repetidors.csv', delimiter=',')"
   ]
  },
  {
   "cell_type": "code",
   "execution_count": 18,
   "id": "d31ff874-7b29-49b2-b099-627c35497a5e",
   "metadata": {
    "scrolled": true
   },
   "outputs": [
    {
     "name": "stdout",
     "output_type": "stream",
     "text": [
      "Info Dataset df_repetidors_2022:\n",
      "<class 'pandas.core.frame.DataFrame'>\n",
      "RangeIndex: 82 entries, 0 to 81\n",
      "Data columns (total 4 columns):\n",
      " #   Column     Non-Null Count  Dtype \n",
      "---  ------     --------------  ----- \n",
      " 0   codi       82 non-null     int64 \n",
      " 1   comarca    82 non-null     object\n",
      " 2   sexe       82 non-null     object\n",
      " 3   repetixen  82 non-null     int64 \n",
      "dtypes: int64(2), object(2)\n",
      "memory usage: 2.7+ KB\n"
     ]
    },
    {
     "data": {
      "text/plain": [
       "None"
      ]
     },
     "metadata": {},
     "output_type": "display_data"
    },
    {
     "name": "stdout",
     "output_type": "stream",
     "text": [
      "\n",
      "\n",
      "Info Dataset df_repetidors_2021:\n",
      "<class 'pandas.core.frame.DataFrame'>\n",
      "RangeIndex: 82 entries, 0 to 81\n",
      "Data columns (total 4 columns):\n",
      " #   Column     Non-Null Count  Dtype \n",
      "---  ------     --------------  ----- \n",
      " 0   codi       82 non-null     int64 \n",
      " 1   comarca    82 non-null     object\n",
      " 2   sexe       82 non-null     object\n",
      " 3   repetixen  82 non-null     int64 \n",
      "dtypes: int64(2), object(2)\n",
      "memory usage: 2.7+ KB\n"
     ]
    },
    {
     "data": {
      "text/plain": [
       "None"
      ]
     },
     "metadata": {},
     "output_type": "display_data"
    },
    {
     "name": "stdout",
     "output_type": "stream",
     "text": [
      "\n",
      "\n",
      "Info Dataset df_repetidors_2020:\n",
      "<class 'pandas.core.frame.DataFrame'>\n",
      "RangeIndex: 81 entries, 0 to 80\n",
      "Data columns (total 4 columns):\n",
      " #   Column     Non-Null Count  Dtype \n",
      "---  ------     --------------  ----- \n",
      " 0   codi       81 non-null     int64 \n",
      " 1   comarca    81 non-null     object\n",
      " 2   sexe       81 non-null     object\n",
      " 3   repetixen  81 non-null     int64 \n",
      "dtypes: int64(2), object(2)\n",
      "memory usage: 2.7+ KB\n"
     ]
    },
    {
     "data": {
      "text/plain": [
       "None"
      ]
     },
     "metadata": {},
     "output_type": "display_data"
    },
    {
     "name": "stdout",
     "output_type": "stream",
     "text": [
      "\n",
      "\n",
      "Info Dataset df_repetidors_2019:\n",
      "<class 'pandas.core.frame.DataFrame'>\n",
      "RangeIndex: 82 entries, 0 to 81\n",
      "Data columns (total 4 columns):\n",
      " #   Column     Non-Null Count  Dtype \n",
      "---  ------     --------------  ----- \n",
      " 0   codi       82 non-null     int64 \n",
      " 1   comarca    82 non-null     object\n",
      " 2   sexe       82 non-null     object\n",
      " 3   repetixen  82 non-null     int64 \n",
      "dtypes: int64(2), object(2)\n",
      "memory usage: 2.7+ KB\n"
     ]
    },
    {
     "data": {
      "text/plain": [
       "None"
      ]
     },
     "metadata": {},
     "output_type": "display_data"
    },
    {
     "name": "stdout",
     "output_type": "stream",
     "text": [
      "\n",
      "\n",
      "Info Dataset df_repetidors_2018:\n",
      "<class 'pandas.core.frame.DataFrame'>\n",
      "RangeIndex: 82 entries, 0 to 81\n",
      "Data columns (total 4 columns):\n",
      " #   Column     Non-Null Count  Dtype \n",
      "---  ------     --------------  ----- \n",
      " 0   codi       82 non-null     int64 \n",
      " 1   comarca    82 non-null     object\n",
      " 2   sexe       82 non-null     object\n",
      " 3   repetixen  82 non-null     int64 \n",
      "dtypes: int64(2), object(2)\n",
      "memory usage: 2.7+ KB\n"
     ]
    },
    {
     "data": {
      "text/plain": [
       "None"
      ]
     },
     "metadata": {},
     "output_type": "display_data"
    },
    {
     "name": "stdout",
     "output_type": "stream",
     "text": [
      "\n",
      "\n"
     ]
    }
   ],
   "source": [
    "datasets = {\n",
    "    'df_repetidors_2022': df_repetidors_2022,\n",
    "    'df_repetidors_2021': df_repetidors_2021,\n",
    "    'df_repetidors_2020': df_repetidors_2020,\n",
    "    'df_repetidors_2019': df_repetidors_2019,\n",
    "    'df_repetidors_2018': df_repetidors_2018,\n",
    "}\n",
    "\n",
    "# Iterar sobre el diccionari per mostrar les primeres files de cada dataset\n",
    "for name, df in datasets.items():\n",
    "    print(f\"Info Dataset {name}:\")\n",
    "    display(df.info()) \n",
    "    print(\"\\n\") "
   ]
  },
  {
   "cell_type": "code",
   "execution_count": 20,
   "id": "b8621f07-567b-4f86-8ed6-12c51f8fd8c6",
   "metadata": {},
   "outputs": [
    {
     "data": {
      "text/html": [
       "<div>\n",
       "<style scoped>\n",
       "    .dataframe tbody tr th:only-of-type {\n",
       "        vertical-align: middle;\n",
       "    }\n",
       "\n",
       "    .dataframe tbody tr th {\n",
       "        vertical-align: top;\n",
       "    }\n",
       "\n",
       "    .dataframe thead th {\n",
       "        text-align: right;\n",
       "    }\n",
       "</style>\n",
       "<table border=\"1\" class=\"dataframe\">\n",
       "  <thead>\n",
       "    <tr style=\"text-align: right;\">\n",
       "      <th></th>\n",
       "      <th>codi</th>\n",
       "      <th>comarca</th>\n",
       "      <th>sexe</th>\n",
       "      <th>repetixen</th>\n",
       "      <th>any</th>\n",
       "    </tr>\n",
       "  </thead>\n",
       "  <tbody>\n",
       "    <tr>\n",
       "      <th>0</th>\n",
       "      <td>1</td>\n",
       "      <td>alt camp</td>\n",
       "      <td>dona</td>\n",
       "      <td>42</td>\n",
       "      <td>2022</td>\n",
       "    </tr>\n",
       "    <tr>\n",
       "      <th>1</th>\n",
       "      <td>1</td>\n",
       "      <td>alt camp</td>\n",
       "      <td>home</td>\n",
       "      <td>83</td>\n",
       "      <td>2022</td>\n",
       "    </tr>\n",
       "    <tr>\n",
       "      <th>2</th>\n",
       "      <td>2</td>\n",
       "      <td>alt emporda</td>\n",
       "      <td>dona</td>\n",
       "      <td>123</td>\n",
       "      <td>2022</td>\n",
       "    </tr>\n",
       "    <tr>\n",
       "      <th>3</th>\n",
       "      <td>2</td>\n",
       "      <td>alt emporda</td>\n",
       "      <td>home</td>\n",
       "      <td>216</td>\n",
       "      <td>2022</td>\n",
       "    </tr>\n",
       "    <tr>\n",
       "      <th>4</th>\n",
       "      <td>3</td>\n",
       "      <td>alt penedes</td>\n",
       "      <td>dona</td>\n",
       "      <td>76</td>\n",
       "      <td>2022</td>\n",
       "    </tr>\n",
       "    <tr>\n",
       "      <th>...</th>\n",
       "      <td>...</td>\n",
       "      <td>...</td>\n",
       "      <td>...</td>\n",
       "      <td>...</td>\n",
       "      <td>...</td>\n",
       "    </tr>\n",
       "    <tr>\n",
       "      <th>404</th>\n",
       "      <td>40</td>\n",
       "      <td>valles occidental</td>\n",
       "      <td>home</td>\n",
       "      <td>1187</td>\n",
       "      <td>2018</td>\n",
       "    </tr>\n",
       "    <tr>\n",
       "      <th>405</th>\n",
       "      <td>41</td>\n",
       "      <td>valles oriental</td>\n",
       "      <td>home</td>\n",
       "      <td>499</td>\n",
       "      <td>2018</td>\n",
       "    </tr>\n",
       "    <tr>\n",
       "      <th>406</th>\n",
       "      <td>41</td>\n",
       "      <td>valles oriental</td>\n",
       "      <td>dona</td>\n",
       "      <td>254</td>\n",
       "      <td>2018</td>\n",
       "    </tr>\n",
       "    <tr>\n",
       "      <th>407</th>\n",
       "      <td>42</td>\n",
       "      <td>moianes</td>\n",
       "      <td>home</td>\n",
       "      <td>9</td>\n",
       "      <td>2018</td>\n",
       "    </tr>\n",
       "    <tr>\n",
       "      <th>408</th>\n",
       "      <td>42</td>\n",
       "      <td>moianes</td>\n",
       "      <td>dona</td>\n",
       "      <td>2</td>\n",
       "      <td>2018</td>\n",
       "    </tr>\n",
       "  </tbody>\n",
       "</table>\n",
       "<p>409 rows × 5 columns</p>\n",
       "</div>"
      ],
      "text/plain": [
       "     codi            comarca  sexe  repetixen   any\n",
       "0       1           alt camp  dona         42  2022\n",
       "1       1           alt camp  home         83  2022\n",
       "2       2        alt emporda  dona        123  2022\n",
       "3       2        alt emporda  home        216  2022\n",
       "4       3        alt penedes  dona         76  2022\n",
       "..    ...                ...   ...        ...   ...\n",
       "404    40  valles occidental  home       1187  2018\n",
       "405    41    valles oriental  home        499  2018\n",
       "406    41    valles oriental  dona        254  2018\n",
       "407    42            moianes  home          9  2018\n",
       "408    42            moianes  dona          2  2018\n",
       "\n",
       "[409 rows x 5 columns]"
      ]
     },
     "execution_count": 20,
     "metadata": {},
     "output_type": "execute_result"
    }
   ],
   "source": [
    "# Crear una llista de DataFrames amb els seus anys corresponents\n",
    "datasets = [\n",
    "    (df_repetidors_2022, 2022),\n",
    "    (df_repetidors_2021, 2021),\n",
    "    (df_repetidors_2020, 2020),\n",
    "    (df_repetidors_2019, 2019),\n",
    "    (df_repetidors_2018, 2018)\n",
    "]\n",
    "\n",
    "# Afegir la columna 'any' i concatenar tots els DataFrames\n",
    "df_repetidors = pd.concat([df.assign(any=year) for df, year in datasets], ignore_index=True)\n",
    "\n",
    "# Mostrar la informació final\n",
    "df_repetidors"
   ]
  },
  {
   "cell_type": "code",
   "execution_count": 22,
   "id": "d732646b-1db6-4135-9c05-216295a7d310",
   "metadata": {},
   "outputs": [
    {
     "name": "stdout",
     "output_type": "stream",
     "text": [
      "<class 'pandas.core.frame.DataFrame'>\n",
      "RangeIndex: 409 entries, 0 to 408\n",
      "Data columns (total 5 columns):\n",
      " #   Column     Non-Null Count  Dtype \n",
      "---  ------     --------------  ----- \n",
      " 0   codi       409 non-null    int64 \n",
      " 1   comarca    409 non-null    object\n",
      " 2   sexe       409 non-null    object\n",
      " 3   repetixen  409 non-null    int64 \n",
      " 4   any        409 non-null    int64 \n",
      "dtypes: int64(3), object(2)\n",
      "memory usage: 16.1+ KB\n"
     ]
    }
   ],
   "source": [
    "df_repetidors.info()"
   ]
  },
  {
   "cell_type": "code",
   "execution_count": 24,
   "id": "31688879-ca76-4a3e-914e-a2cef0d14cf3",
   "metadata": {},
   "outputs": [
    {
     "data": {
      "text/html": [
       "<div>\n",
       "<style scoped>\n",
       "    .dataframe tbody tr th:only-of-type {\n",
       "        vertical-align: middle;\n",
       "    }\n",
       "\n",
       "    .dataframe tbody tr th {\n",
       "        vertical-align: top;\n",
       "    }\n",
       "\n",
       "    .dataframe thead th {\n",
       "        text-align: right;\n",
       "    }\n",
       "</style>\n",
       "<table border=\"1\" class=\"dataframe\">\n",
       "  <thead>\n",
       "    <tr style=\"text-align: right;\">\n",
       "      <th></th>\n",
       "      <th>codi</th>\n",
       "      <th>comarca</th>\n",
       "      <th>sexe</th>\n",
       "      <th>repetixen</th>\n",
       "      <th>any</th>\n",
       "    </tr>\n",
       "  </thead>\n",
       "  <tbody>\n",
       "    <tr>\n",
       "      <th>0</th>\n",
       "      <td>01</td>\n",
       "      <td>alt camp</td>\n",
       "      <td>dona</td>\n",
       "      <td>42</td>\n",
       "      <td>2022</td>\n",
       "    </tr>\n",
       "    <tr>\n",
       "      <th>1</th>\n",
       "      <td>01</td>\n",
       "      <td>alt camp</td>\n",
       "      <td>home</td>\n",
       "      <td>83</td>\n",
       "      <td>2022</td>\n",
       "    </tr>\n",
       "    <tr>\n",
       "      <th>2</th>\n",
       "      <td>02</td>\n",
       "      <td>alt emporda</td>\n",
       "      <td>dona</td>\n",
       "      <td>123</td>\n",
       "      <td>2022</td>\n",
       "    </tr>\n",
       "    <tr>\n",
       "      <th>3</th>\n",
       "      <td>02</td>\n",
       "      <td>alt emporda</td>\n",
       "      <td>home</td>\n",
       "      <td>216</td>\n",
       "      <td>2022</td>\n",
       "    </tr>\n",
       "    <tr>\n",
       "      <th>4</th>\n",
       "      <td>03</td>\n",
       "      <td>alt penedes</td>\n",
       "      <td>dona</td>\n",
       "      <td>76</td>\n",
       "      <td>2022</td>\n",
       "    </tr>\n",
       "  </tbody>\n",
       "</table>\n",
       "</div>"
      ],
      "text/plain": [
       "  codi      comarca  sexe  repetixen   any\n",
       "0   01     alt camp  dona         42  2022\n",
       "1   01     alt camp  home         83  2022\n",
       "2   02  alt emporda  dona        123  2022\n",
       "3   02  alt emporda  home        216  2022\n",
       "4   03  alt penedes  dona         76  2022"
      ]
     },
     "metadata": {},
     "output_type": "display_data"
    },
    {
     "name": "stdout",
     "output_type": "stream",
     "text": [
      "<class 'pandas.core.frame.DataFrame'>\n",
      "RangeIndex: 409 entries, 0 to 408\n",
      "Data columns (total 5 columns):\n",
      " #   Column     Non-Null Count  Dtype \n",
      "---  ------     --------------  ----- \n",
      " 0   codi       409 non-null    object\n",
      " 1   comarca    409 non-null    object\n",
      " 2   sexe       409 non-null    object\n",
      " 3   repetixen  409 non-null    int64 \n",
      " 4   any        409 non-null    int64 \n",
      "dtypes: int64(2), object(3)\n",
      "memory usage: 16.1+ KB\n"
     ]
    }
   ],
   "source": [
    "# Convertir la columna 'codi' a tipus string\n",
    "df_repetidors['codi'] = df_repetidors['codi'].apply(lambda x: str(x).zfill(2))\n",
    "display(df_repetidors.head())\n",
    "df_repetidors.info()"
   ]
  },
  {
   "cell_type": "code",
   "execution_count": 26,
   "id": "4caee300-dfec-423c-b055-b2c0aefb8cfa",
   "metadata": {},
   "outputs": [],
   "source": [
    "df_repetidors.to_csv('clean_data/df_repetidors.csv', index=False)"
   ]
  },
  {
   "cell_type": "code",
   "execution_count": null,
   "id": "602a79ff-e1f8-42e0-bc48-b33735019457",
   "metadata": {},
   "outputs": [],
   "source": []
  },
  {
   "cell_type": "code",
   "execution_count": null,
   "id": "ae276271-00c4-43e1-bac8-73b9f3197b76",
   "metadata": {},
   "outputs": [],
   "source": []
  },
  {
   "cell_type": "code",
   "execution_count": null,
   "id": "f4a1ecee-03d4-4b95-b584-6f7667f903ee",
   "metadata": {},
   "outputs": [],
   "source": []
  },
  {
   "cell_type": "code",
   "execution_count": null,
   "id": "eab02515-c483-4f30-a9e9-f857d162f88d",
   "metadata": {},
   "outputs": [],
   "source": []
  },
  {
   "cell_type": "code",
   "execution_count": null,
   "id": "f5995951-e6d0-4eb3-b7e8-62740a61e491",
   "metadata": {},
   "outputs": [],
   "source": []
  },
  {
   "cell_type": "code",
   "execution_count": null,
   "id": "da544609-006d-4bd5-8ff5-c7510911ffd1",
   "metadata": {},
   "outputs": [],
   "source": []
  },
  {
   "cell_type": "code",
   "execution_count": null,
   "id": "5109abd7-fced-46c7-9e46-37a0ef253ed3",
   "metadata": {},
   "outputs": [],
   "source": []
  }
 ],
 "metadata": {
  "kernelspec": {
   "display_name": "Python 3 (ipykernel)",
   "language": "python",
   "name": "python3"
  },
  "language_info": {
   "codemirror_mode": {
    "name": "ipython",
    "version": 3
   },
   "file_extension": ".py",
   "mimetype": "text/x-python",
   "name": "python",
   "nbconvert_exporter": "python",
   "pygments_lexer": "ipython3",
   "version": "3.12.3"
  }
 },
 "nbformat": 4,
 "nbformat_minor": 5
}
